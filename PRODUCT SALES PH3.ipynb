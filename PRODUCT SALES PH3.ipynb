{
 "cells": [
  {
   "cell_type": "code",
   "execution_count": null,
   "id": "5c3dcb87",
   "metadata": {},
   "outputs": [],
   "source": [
    "import pandas as pd\n",
    "import matplotlib.pyplot as plt\n",
    "import seaborn as sns\n",
    "from datetime import datetime"
   ]
  },
  {
   "cell_type": "code",
   "execution_count": null,
   "id": "42d51a1d",
   "metadata": {},
   "outputs": [],
   "source": [
    "df = pd.read_excel('superstore_sales.xlsx')\n",
    "df.head() "
   ]
  },
  {
   "cell_type": "code",
   "execution_count": null,
   "id": "17954697",
   "metadata": {},
   "outputs": [],
   "source": [
    "df.shape"
   ]
  },
  {
   "cell_type": "code",
   "execution_count": null,
   "id": "bae6d75a",
   "metadata": {},
   "outputs": [],
   "source": [
    "df.isnull().sum()"
   ]
  },
  {
   "cell_type": "code",
   "execution_count": null,
   "id": "5bd9ae7f",
   "metadata": {},
   "outputs": [],
   "source": [
    "boughts = df.groupby('product_name').agg({'quantity': 'sum'}).sort_values('quantity',ascending=False)[:10]\n",
    "boughts"
   ]
  },
  {
   "cell_type": "code",
   "execution_count": null,
   "id": "60a9e3aa",
   "metadata": {},
   "outputs": [],
   "source": [
    "sns.barplot(x='product_name',y='quantity',data=boughts.reset_index())\n",
    "plt.xticks(rotation = 'vertical')"
   ]
  },
  {
   "cell_type": "code",
   "execution_count": null,
   "id": "79860e18",
   "metadata": {},
   "outputs": [],
   "source": [
    "productSales = pd.DataFrame(df.groupby('product_name').sum()['sales'])\n",
    "productSales.sort_values(by=['sales'], inplace=True, ascending=False)\n",
    "productSales.head(10)"
   ]
  },
  {
   "cell_type": "code",
   "execution_count": null,
   "id": "eac51d36",
   "metadata": {},
   "outputs": [],
   "source": [
    "profitable_products = pd.DataFrame(df.groupby(['product_name']).sum()['profit'])\n",
    "profitable_products.sort_values(by=['profit'], inplace = True, ascending = False)\n",
    "profitable_products.head(10)"
   ]
  },
  {
   "cell_type": "code",
   "execution_count": null,
   "id": "cd40c143",
   "metadata": {},
   "outputs": [],
   "source": [
    "sns.barplot(x='product_name',y='profit',data=profitable_products.head(10).reset_index())\n",
    "plt.xticks(rotation = 'vertical')"
   ]
  },
  {
   "cell_type": "code",
   "execution_count": null,
   "id": "dac50a92",
   "metadata": {},
   "outputs": [],
   "source": [
    "df.groupby(['category','sales']).sum()"
   ]
  },
  {
   "cell_type": "code",
   "execution_count": null,
   "id": "2264a564",
   "metadata": {},
   "outputs": [],
   "source": [
    "profitable_category = pd.DataFrame(df.groupby(['category']).sum()['profit'])\n",
    "profitable_category.sort_values(by=['profit'], inplace = True, ascending = False)\n",
    "profitable_category"
   ]
  },
  {
   "cell_type": "code",
   "execution_count": null,
   "id": "a82b4597",
   "metadata": {},
   "outputs": [],
   "source": [
    "plt.figure(figsize=(17, 5))\n",
    "plt.bar(df['category'],df['sales'],color = 'b')\n",
    "plt.xticks(size=8)\n",
    "plt.show()"
   ]
  },
  {
   "cell_type": "code",
   "execution_count": null,
   "id": "9733436a",
   "metadata": {},
   "outputs": [],
   "source": [
    "df.groupby(['category','sub_category']).sum()"
   ]
  },
  {
   "cell_type": "code",
   "execution_count": null,
   "id": "c8881bc2",
   "metadata": {},
   "outputs": [],
   "source": [
    "df.groupby([\"category\", \"sub_category\"], as_index=False)[\"quantity\"].count()"
   ]
  },
  {
   "cell_type": "code",
   "execution_count": null,
   "id": "e5e66aed",
   "metadata": {},
   "outputs": [],
   "source": [
    "profitable_segment = pd.DataFrame(df.groupby(['segment']).sum()['profit'])\n",
    "profitable_segment.sort_values(by=['profit'], inplace = True, ascending = False)\n",
    "profitable_segment"
   ]
  },
  {
   "cell_type": "code",
   "execution_count": null,
   "id": "faa6edc5",
   "metadata": {},
   "outputs": [],
   "source": [
    "sns.barplot(x='segment',y='profit',data=profitable_segment.reset_index())\n",
    "plt.xticks(rotation = 'vertical')"
   ]
  },
  {
   "cell_type": "code",
   "execution_count": null,
   "id": "562f183b",
   "metadata": {},
   "outputs": [],
   "source": [
    "plt.figure(figsize=(14, 6))\n",
    "plt.bar(df['ship_mode'],df['sales'],color = 'b')\n",
    "plt.xticks(rotation='vertical', size=8)\n",
    "plt.show()"
   ]
  },
  {
   "cell_type": "code",
   "execution_count": null,
   "id": "21690774",
   "metadata": {},
   "outputs": [],
   "source": [
    "category_hist = sns.FacetGrid(df, col='ship_mode', palette='rainbow')\n",
    "category_hist.map(plt.hist, 'category')"
   ]
  },
  {
   "cell_type": "code",
   "execution_count": null,
   "id": "b3a5b58d",
   "metadata": {},
   "outputs": [],
   "source": [
    "sns.set_style('whitegrid')\n",
    "sns.countplot(x='market',data=df, palette='rainbow')"
   ]
  },
  {
   "cell_type": "code",
   "execution_count": null,
   "id": "3b3c2da0",
   "metadata": {},
   "outputs": [],
   "source": [
    "countries = pd.DataFrame(df.groupby('country').sum()['sales'])\n",
    "countries.sort_values('sales',inplace=True, ascending=False)\n",
    "countries.head(10)"
   ]
  },
  {
   "cell_type": "code",
   "execution_count": null,
   "id": "448a888a",
   "metadata": {},
   "outputs": [],
   "source": [
    "countries = countries.sort_values(by = 'sales',ascending = False)[1:11]\n",
    "countries['sales'].plot(kind='pie',autopct='%1.1f%%',figsize=(14,7))\n",
    "plt.title('10 Countries with most sales')\n",
    "plt.show()"
   ]
  },
  {
   "cell_type": "code",
   "execution_count": null,
   "id": "6fdcad81",
   "metadata": {},
   "outputs": [],
   "source": [
    "df.groupby('country').agg({'shipping_cost':'mean'}).sort_values('shipping_cost', ascending=False).head(10)"
   ]
  },
  {
   "cell_type": "code",
   "execution_count": null,
   "id": "bf2e80ad",
   "metadata": {},
   "outputs": [],
   "source": [
    "data10 = df.sort_values('profit',ascending=False).head(10)[['order_id','customer_name','profit']]\n",
    "data10"
   ]
  },
  {
   "cell_type": "code",
   "execution_count": null,
   "id": "8888df00",
   "metadata": {},
   "outputs": [],
   "source": [
    "month = df['order_date'].astype(str) \n",
    "month = month.apply(lambda x:datetime.strptime(x,'%Y-%m-%d'))\n",
    "df['month'] = month.map(lambda x: x.month) \n",
    "df"
   ]
  },
  {
   "cell_type": "code",
   "execution_count": null,
   "id": "13b57445",
   "metadata": {},
   "outputs": [],
   "source": [
    "date = df.groupby(['year','month']).sum()\n",
    "date"
   ]
  },
  {
   "cell_type": "code",
   "execution_count": null,
   "id": "027c6c1e",
   "metadata": {},
   "outputs": [],
   "source": [
    "sns.barplot(x='year',y='sales',data=date.reset_index())\n",
    "plt.xticks(rotation = 'vertical')"
   ]
  }
 ],
 "metadata": {
  "kernelspec": {
   "display_name": "Python 3 (ipykernel)",
   "language": "python",
   "name": "python3"
  },
  "language_info": {
   "codemirror_mode": {
    "name": "ipython",
    "version": 3
   },
   "file_extension": ".py",
   "mimetype": "text/x-python",
   "name": "python",
   "nbconvert_exporter": "python",
   "pygments_lexer": "ipython3",
   "version": "3.11.5"
  }
 },
 "nbformat": 4,
 "nbformat_minor": 5
}
